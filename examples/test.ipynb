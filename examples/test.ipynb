{
 "cells": [
  {
   "cell_type": "code",
   "execution_count": 9,
   "metadata": {},
   "outputs": [],
   "source": [
    "import numpy as np\n",
    "\n",
    "def modified_gram_schmidt(A):\n",
    "    \"\"\"\n",
    "    Implements the Modified Gram-Schmidt orthogonalization to get the QR decomposition of matrix A.\n",
    "    A = QR\n",
    "    \"\"\"\n",
    "    A = A.astype(float)  # Ensure A is of float type\n",
    "    m, n = A.shape\n",
    "    Q = np.zeros((m, n))\n",
    "    R = np.zeros((n, n))\n",
    "    \n",
    "    for i in range(n-1):\n",
    "        R[i, i] = np.linalg.norm(A[:, i])\n",
    "        Q[:, i] = A[:, i] / R[i, i]\n",
    "        R[i, i+1:n] = np.dot(Q[:, i].T, A[:, i+1:n])\n",
    "        A[:, i+1:n] -= np.outer(Q[:, i], R[i, i+1:n])\n",
    "    R[n-1, n-1] = np.linalg.norm(A[:, n-1])\n",
    "    Q[:, n-1] = A[:, n-1] / R[n-1, n-1]\n",
    "    return Q, R\n"
   ]
  },
  {
   "cell_type": "code",
   "execution_count": 11,
   "metadata": {},
   "outputs": [
    {
     "name": "stdout",
     "output_type": "stream",
     "text": [
      "True\n",
      "Q:\n",
      " [[ 0.04998203  0.72346145 -0.01828144  0.13443596  0.67505413]\n",
      " [ 0.08256633  0.1907767   0.91706444 -0.3174421  -0.12251688]\n",
      " [ 0.64566918  0.46893962 -0.25032911 -0.06324694 -0.54455679]\n",
      " [ 0.67056594 -0.42958849 -0.03241783 -0.36354405  0.48226535]\n",
      " [ 0.35233114 -0.18909558  0.30812827  0.86312979  0.01302189]]\n",
      "R:\n",
      " [[ 1.15075381  0.73419818  0.5228152   0.86609154  1.38402402]\n",
      " [ 0.          1.08644244  0.15673005  0.44812953  0.61360813]\n",
      " [ 0.          0.          0.98410928  0.24287783  0.43022391]\n",
      " [ 0.          0.          0.          0.68612766 -0.01572507]\n",
      " [ 0.          0.          0.          0.          0.36436127]]\n",
      "[]\n"
     ]
    }
   ],
   "source": [
    "#generate random matrix\n",
    "A = np.random.rand(5, 5)\n",
    "\n",
    "#compute QR decomposition\n",
    "Q, R = modified_gram_schmidt(A)\n",
    "\n",
    "#check if QR decomposition is correct\n",
    "print(np.allclose(A, np.dot(Q, R)))\n",
    "\n",
    "#print Q and R\n",
    "print(\"Q:\\n\", Q)\n",
    "print(\"R:\\n\", R)\n",
    "\n",
    "print(A[:, 5:5])\n"
   ]
  }
 ],
 "metadata": {
  "kernelspec": {
   "display_name": "Python 3",
   "language": "python",
   "name": "python3"
  },
  "language_info": {
   "codemirror_mode": {
    "name": "ipython",
    "version": 3
   },
   "file_extension": ".py",
   "mimetype": "text/x-python",
   "name": "python",
   "nbconvert_exporter": "python",
   "pygments_lexer": "ipython3",
   "version": "3.10.5"
  },
  "orig_nbformat": 4
 },
 "nbformat": 4,
 "nbformat_minor": 2
}
