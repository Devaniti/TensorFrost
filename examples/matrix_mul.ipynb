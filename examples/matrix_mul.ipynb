{
 "cells": [
  {
   "cell_type": "code",
   "execution_count": 10,
   "metadata": {},
   "outputs": [],
   "source": [
    "import TensorFrost as tf\n",
    "import numpy as np\n",
    "import matplotlib.pyplot as plt\n",
    "import time\n",
    "\n",
    "tf.initialize(tf.cpu, \"H:/cl_compile.bat /O1 /fp:fast /openmp\")\n",
    "\n",
    "S = 512\n",
    "\n",
    "def matmul():\n",
    "    A = tf.input([S, S], tf.float32)\n",
    "    B = tf.input([S, S], tf.float32)\n",
    "\n",
    "    N, M = A.shape\n",
    "    K = B.shape[1]\n",
    "    \n",
    "    C = tf.zeros([N, K])\n",
    "\n",
    "    i, j, k = tf.indices([N, K, M])\n",
    "\n",
    "    tf.scatterAdd(C[i, j], A[i, k] * B[k, j])\n",
    "\n",
    "    return [C]\n",
    "\n",
    "mmul = tf.program(matmul)"
   ]
  },
  {
   "cell_type": "code",
   "execution_count": 11,
   "metadata": {},
   "outputs": [
    {
     "name": "stdout",
     "output_type": "stream",
     "text": [
      "[[-7.6293945e-05  4.5776367e-05  3.0517578e-05 ... -3.0517578e-05\n",
      "  -5.3405762e-05  1.5258789e-05]\n",
      " [-1.5258789e-05  4.5776367e-05 -3.8146973e-05 ... -1.5258789e-05\n",
      "  -3.0517578e-05 -8.3923340e-05]\n",
      " [-4.5776367e-05 -3.0517578e-05  3.0517578e-05 ... -6.1035156e-05\n",
      "  -1.5258789e-05 -6.1035156e-05]\n",
      " ...\n",
      " [-7.6293945e-05  7.6293945e-06  3.8146973e-05 ... -1.5258789e-05\n",
      "   5.3405762e-05 -3.0517578e-05]\n",
      " [-1.5258789e-05 -3.0517578e-05 -2.2888184e-05 ...  0.0000000e+00\n",
      "   1.5258789e-05  0.0000000e+00]\n",
      " [ 0.0000000e+00  4.5776367e-05 -1.5258789e-05 ... -1.5258789e-05\n",
      "   1.5258789e-05 -4.5776367e-05]]\n"
     ]
    }
   ],
   "source": [
    "Anp = np.random.rand(S, S).astype(np.float32)\n",
    "Bnp = np.random.rand(S, S).astype(np.float32)\n",
    "\n",
    "A = tf.memory(np.transpose(Anp))\n",
    "B = tf.memory(np.transpose(Bnp))\n",
    "C, = mmul(A, B)\n",
    "\n",
    "Cnp = C.numpy\n",
    "\n",
    "#compare to numpy\n",
    "Cnp2 = np.dot(Bnp, Anp)\n",
    "\n",
    "print(Cnp - Cnp2)\n"
   ]
  },
  {
   "cell_type": "code",
   "execution_count": 12,
   "metadata": {},
   "outputs": [
    {
     "name": "stdout",
     "output_type": "stream",
     "text": [
      "TensorFrost:  14.598998069763184\n",
      "Numpy:  0.1270008087158203\n",
      "TF/NP:  114.95200871067057\n"
     ]
    }
   ],
   "source": [
    "Anp = np.random.rand(S, S).astype(np.float32)\n",
    "Bnp = np.random.rand(S, S).astype(np.float32)\n",
    "\n",
    "A = tf.memory(np.transpose(Anp))\n",
    "B = tf.memory(np.transpose(Bnp))\n",
    "\n",
    "# Performance test\n",
    "t0 = time.time()\n",
    "for i in range(50):\n",
    "    C, = mmul(A, B)\n",
    "t1 = time.time()\n",
    "\n",
    "tf_time = t1 - t0\n",
    "print(\"TensorFrost: \", t1 - t0)\n",
    "\n",
    "t0 = time.time()\n",
    "for i in range(50):\n",
    "    Cnp2 = np.dot(Bnp, Anp)\n",
    "t1 = time.time()\n",
    "\n",
    "np_time = t1 - t0\n",
    "print(\"Numpy: \", t1 - t0)\n",
    "\n",
    "print(\"TF/NP: \", tf_time / np_time)"
   ]
  }
 ],
 "metadata": {
  "kernelspec": {
   "display_name": "Python 3",
   "language": "python",
   "name": "python3"
  },
  "language_info": {
   "codemirror_mode": {
    "name": "ipython",
    "version": 3
   },
   "file_extension": ".py",
   "mimetype": "text/x-python",
   "name": "python",
   "nbconvert_exporter": "python",
   "pygments_lexer": "ipython3",
   "version": "3.10.5"
  },
  "orig_nbformat": 4
 },
 "nbformat": 4,
 "nbformat_minor": 2
}
