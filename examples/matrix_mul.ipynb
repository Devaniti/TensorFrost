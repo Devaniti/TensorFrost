{
 "cells": [
  {
   "cell_type": "code",
   "execution_count": 19,
   "metadata": {},
   "outputs": [],
   "source": [
    "import TensorFrost as tf\n",
    "import numpy as np\n",
    "import matplotlib.pyplot as plt\n",
    "import time\n",
    "\n",
    "tf.initialize(tf.cpu, \"H:/cl_compile.bat /O2 /fp:fast /openmp\")\n",
    "\n",
    "def matmul():\n",
    "    A = tf.input([-1, -1], tf.float32)\n",
    "    B = tf.input([-1, -1], tf.float32)\n",
    "\n",
    "    N, M = A.shape\n",
    "    K = B.shape[1]\n",
    "    \n",
    "    C = tf.zeros([N, K])\n",
    "\n",
    "    i, j, k = tf.indices([N, K, M])\n",
    "\n",
    "    tf.scatterAdd(C[i, j], A[i, k] * B[k, j])\n",
    "\n",
    "    return [C]\n",
    "\n",
    "mmul = tf.program(matmul)"
   ]
  },
  {
   "cell_type": "code",
   "execution_count": 20,
   "metadata": {},
   "outputs": [
    {
     "name": "stdout",
     "output_type": "stream",
     "text": [
      "[[ 0.0000000e+00  0.0000000e+00  0.0000000e+00  0.0000000e+00\n",
      "   0.0000000e+00  2.3841858e-07  0.0000000e+00  0.0000000e+00]\n",
      " [ 0.0000000e+00  1.1920929e-07 -1.1920929e-07  0.0000000e+00\n",
      "   1.1920929e-07  0.0000000e+00 -5.9604645e-08  0.0000000e+00]\n",
      " [ 0.0000000e+00  0.0000000e+00 -2.3841858e-07  0.0000000e+00\n",
      "   0.0000000e+00  0.0000000e+00 -1.1920929e-07  0.0000000e+00]\n",
      " [ 0.0000000e+00  1.1920929e-07 -1.1920929e-07  1.1920929e-07\n",
      "   2.3841858e-07  0.0000000e+00  1.1920929e-07 -1.1920929e-07]\n",
      " [ 2.3841858e-07  0.0000000e+00  0.0000000e+00  0.0000000e+00\n",
      "  -1.1920929e-07  0.0000000e+00  0.0000000e+00  0.0000000e+00]\n",
      " [-2.3841858e-07  0.0000000e+00  1.1920929e-07  0.0000000e+00\n",
      "  -1.1920929e-07  0.0000000e+00  5.9604645e-08  0.0000000e+00]\n",
      " [-4.7683716e-07  2.3841858e-07  2.3841858e-07  5.9604645e-08\n",
      "   2.3841858e-07  2.3841858e-07  0.0000000e+00  1.1920929e-07]\n",
      " [ 0.0000000e+00  0.0000000e+00  0.0000000e+00 -5.9604645e-08\n",
      "   0.0000000e+00  1.1920929e-07  5.9604645e-08  0.0000000e+00]]\n"
     ]
    }
   ],
   "source": [
    "Anp = np.random.rand(8, 8).astype(np.float32)\n",
    "Bnp = np.random.rand(8, 8).astype(np.float32)\n",
    "\n",
    "A = tf.memory(np.transpose(Anp))\n",
    "B = tf.memory(np.transpose(Bnp))\n",
    "C, = mmul(A, B)\n",
    "\n",
    "Cnp = C.numpy\n",
    "\n",
    "#compare to numpy\n",
    "Cnp2 = np.dot(Bnp, Anp)\n",
    "\n",
    "print(Cnp - Cnp2)\n"
   ]
  },
  {
   "cell_type": "code",
   "execution_count": 21,
   "metadata": {},
   "outputs": [
    {
     "name": "stdout",
     "output_type": "stream",
     "text": [
      "TensorFrost:  33.77503323554993\n",
      "Numpy:  0.33500027656555176\n",
      "TF/NP:  100.8209114983848\n"
     ]
    }
   ],
   "source": [
    "Anp = np.random.rand(1024, 1024).astype(np.float32)\n",
    "Bnp = np.random.rand(1024, 1024).astype(np.float32)\n",
    "\n",
    "A = tf.memory(np.transpose(Anp))\n",
    "B = tf.memory(np.transpose(Bnp))\n",
    "\n",
    "# Performance test\n",
    "t0 = time.time()\n",
    "for i in range(50):\n",
    "    C, = mmul(A, B)\n",
    "t1 = time.time()\n",
    "\n",
    "tf_time = t1 - t0\n",
    "print(\"TensorFrost: \", t1 - t0)\n",
    "\n",
    "t0 = time.time()\n",
    "for i in range(50):\n",
    "    Cnp2 = np.dot(Bnp, Anp)\n",
    "t1 = time.time()\n",
    "\n",
    "np_time = t1 - t0\n",
    "print(\"Numpy: \", t1 - t0)\n",
    "\n",
    "print(\"TF/NP: \", tf_time / np_time)"
   ]
  }
 ],
 "metadata": {
  "kernelspec": {
   "display_name": "Python 3",
   "language": "python",
   "name": "python3"
  },
  "language_info": {
   "codemirror_mode": {
    "name": "ipython",
    "version": 3
   },
   "file_extension": ".py",
   "mimetype": "text/x-python",
   "name": "python",
   "nbconvert_exporter": "python",
   "pygments_lexer": "ipython3",
   "version": "3.10.5"
  },
  "orig_nbformat": 4
 },
 "nbformat": 4,
 "nbformat_minor": 2
}
